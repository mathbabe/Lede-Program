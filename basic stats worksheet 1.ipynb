{
 "metadata": {
  "name": "",
  "signature": "sha256:7880d905d5e9cc898e66563b5eb33880811100475a44b4f0ec4edf503672d822"
 },
 "nbformat": 3,
 "nbformat_minor": 0,
 "worksheets": [
  {
   "cells": [
    {
     "cell_type": "markdown",
     "metadata": {},
     "source": [
      "Let's explore some math and statistics stuff today and make sense of \"statistically significant\" but small differences."
     ]
    },
    {
     "cell_type": "code",
     "collapsed": false,
     "input": [
      "import math\n",
      "from random import *"
     ],
     "language": "python",
     "metadata": {},
     "outputs": [],
     "prompt_number": 8
    },
    {
     "cell_type": "markdown",
     "metadata": {},
     "source": [
      "First let's play with some basic sampling functions, first with integers."
     ]
    },
    {
     "cell_type": "code",
     "collapsed": false,
     "input": [
      "randint(0, 100)"
     ],
     "language": "python",
     "metadata": {},
     "outputs": [
      {
       "metadata": {},
       "output_type": "pyout",
       "prompt_number": 71,
       "text": [
        "16"
       ]
      }
     ],
     "prompt_number": 71
    },
    {
     "cell_type": "code",
     "collapsed": false,
     "input": [
      "random_ints = [randint(1, 100) for x in range(10000)]\n",
      "print random_ints[:10]"
     ],
     "language": "python",
     "metadata": {},
     "outputs": [
      {
       "output_type": "stream",
       "stream": "stdout",
       "text": [
        "[62, 18, 32, 97, 99, 20, 80, 76, 57, 29]\n"
       ]
      }
     ],
     "prompt_number": 72
    },
    {
     "cell_type": "markdown",
     "metadata": {},
     "source": [
      "What does this look like? We need a histogram. Histograms are your friend."
     ]
    },
    {
     "cell_type": "code",
     "collapsed": false,
     "input": [
      "from matplotlib.pylab import *"
     ],
     "language": "python",
     "metadata": {},
     "outputs": [],
     "prompt_number": 73
    },
    {
     "cell_type": "code",
     "collapsed": false,
     "input": [
      "hist(random_ints)"
     ],
     "language": "python",
     "metadata": {},
     "outputs": [
      {
       "metadata": {},
       "output_type": "pyout",
       "prompt_number": 74,
       "text": [
        "(array([ 1016.,  1010.,  1034.,   999.,   924.,   978.,  1008.,  1042.,\n",
        "          990.,   999.]),\n",
        " array([   1. ,   10.9,   20.8,   30.7,   40.6,   50.5,   60.4,   70.3,\n",
        "          80.2,   90.1,  100. ]),\n",
        " <a list of 10 Patch objects>)"
       ]
      },
      {
       "metadata": {},
       "output_type": "display_data",
       "png": "[encoded data removed]",
       "text": [
        "<matplotlib.figure.Figure at 0x10e46b0d0>"
       ]
      }
     ],
     "prompt_number": 74
    },
    {
     "cell_type": "markdown",
     "metadata": {},
     "source": [
      "In case your histogram didn't appear inline, type \"show()\". Plus, this histogram by default has only 5 bars, which is not enough. Let's ask for more."
     ]
    },
    {
     "cell_type": "code",
     "collapsed": false,
     "input": [
      "hist(random_ints, 25)"
     ],
     "language": "python",
     "metadata": {},
     "outputs": [
      {
       "metadata": {},
       "output_type": "pyout",
       "prompt_number": 76,
       "text": [
        "(array([ 403.,  430.,  373.,  395.,  425.,  407.,  445.,  370.,  391.,\n",
        "         420.,  380.,  385.,  343.,  389.,  405.,  390.,  410.,  419.,\n",
        "         405.,  426.,  382.,  434.,  347.,  402.,  424.]),\n",
        " array([   1.  ,    4.96,    8.92,   12.88,   16.84,   20.8 ,   24.76,\n",
        "          28.72,   32.68,   36.64,   40.6 ,   44.56,   48.52,   52.48,\n",
        "          56.44,   60.4 ,   64.36,   68.32,   72.28,   76.24,   80.2 ,\n",
        "          84.16,   88.12,   92.08,   96.04,  100.  ]),\n",
        " <a list of 25 Patch objects>)"
       ]
      },
      {
       "metadata": {},
       "output_type": "display_data",
       "png": "[encoded data removed]",
       "text": [
        "<matplotlib.figure.Figure at 0x1105eff90>"
       ]
      }
     ],
     "prompt_number": 76
    },
    {
     "cell_type": "markdown",
     "metadata": {},
     "source": [
      "Now let me tell you a story about my friend Jordan. He wanted to simulate the lottery, or at least a baby version of it, but all he had were dice. How much of a problem is this? Let's do some experiments."
     ]
    },
    {
     "cell_type": "code",
     "collapsed": false,
     "input": [
      "def make_roll():\n",
      "    return [randint(1,6) for c in range(3)]\n",
      "\n",
      "rolls = [make_roll() for x in range(100)]\n",
      "\n",
      "print rolls[0:4]"
     ],
     "language": "python",
     "metadata": {},
     "outputs": [
      {
       "output_type": "stream",
       "stream": "stdout",
       "text": [
        "[[3, 5, 2], [3, 3, 4], [2, 2, 4], [2, 1, 3]]\n"
       ]
      }
     ],
     "prompt_number": 77
    },
    {
     "cell_type": "markdown",
     "metadata": {},
     "source": [
      "Let's develop a test for there being a double. There are lots of ways to do this."
     ]
    },
    {
     "cell_type": "code",
     "collapsed": false,
     "input": [
      "def has_double(roll):\n",
      "    if roll[0]==roll[1] or roll[0]==roll[2] or roll[1]==roll[2]: return 1\n",
      "    else: return 0\n",
      "    \n",
      "print has_double([1,1,2])\n",
      "print has_double([0,1,2])"
     ],
     "language": "python",
     "metadata": {},
     "outputs": [
      {
       "output_type": "stream",
       "stream": "stdout",
       "text": [
        "1\n",
        "0\n"
       ]
      }
     ],
     "prompt_number": 78
    },
    {
     "cell_type": "code",
     "collapsed": false,
     "input": [
      "filtered_rolls = [has_double(roll) for roll in rolls]"
     ],
     "language": "python",
     "metadata": {},
     "outputs": [],
     "prompt_number": 79
    },
    {
     "cell_type": "code",
     "collapsed": false,
     "input": [
      "print filtered_rolls[:10]"
     ],
     "language": "python",
     "metadata": {},
     "outputs": [
      {
       "output_type": "stream",
       "stream": "stdout",
       "text": [
        "[0, 1, 1, 0, 0, 0, 1, 0, 0, 0]\n"
       ]
      }
     ],
     "prompt_number": 80
    },
    {
     "cell_type": "markdown",
     "metadata": {},
     "source": [
      "Now we'd like to figure out \"how often\" doubles happen. If you think about it, that means we add up all the \"1\"s and then divide by all the tries we did. But looking at the formula, that's just the average value. Now we know our choice of \"1\"s and \"0\"s was good. Of course we could have gone the exact opposite way, but whatevs."
     ]
    },
    {
     "cell_type": "code",
     "collapsed": false,
     "input": [
      "mean(filtered_rolls)"
     ],
     "language": "python",
     "metadata": {},
     "outputs": [
      {
       "metadata": {},
       "output_type": "pyout",
       "prompt_number": 81,
       "text": [
        "0.47999999999999998"
       ]
      }
     ],
     "prompt_number": 81
    },
    {
     "cell_type": "markdown",
     "metadata": {},
     "source": [
      "Remember, that's just an estimate. It could easily have been different with a different sample. Let's vary the one parameter we have here, namely the number of draws in our sample."
     ]
    },
    {
     "cell_type": "code",
     "collapsed": false,
     "input": [
      "def compute_percentage_of_doubles(n):\n",
      "    rolls = [make_roll() for x in range(n)]\n",
      "    filtered_rolls = [has_double(roll) for roll in rolls]\n",
      "    return mean(filtered_rolls)"
     ],
     "language": "python",
     "metadata": {},
     "outputs": [],
     "prompt_number": 82
    },
    {
     "cell_type": "code",
     "collapsed": true,
     "input": [
      "compute_percentage_of_doubles(100)"
     ],
     "language": "python",
     "metadata": {},
     "outputs": [
      {
       "metadata": {},
       "output_type": "pyout",
       "prompt_number": 83,
       "text": [
        "0.51000000000000001"
       ]
      }
     ],
     "prompt_number": 83
    },
    {
     "cell_type": "markdown",
     "metadata": {},
     "source": [
      "After a bunch of experiments, we have some idea of the \"actual value\". Is there another way we can derive it? Let's use our noggins."
     ]
    },
    {
     "cell_type": "code",
     "collapsed": false,
     "input": [
      "1-(6*5*4)/(6*6*6.0)"
     ],
     "language": "python",
     "metadata": {},
     "outputs": [
      {
       "metadata": {},
       "output_type": "pyout",
       "prompt_number": 39,
       "text": [
        "0.4444444444444444"
       ]
      }
     ],
     "prompt_number": 39
    },
    {
     "cell_type": "markdown",
     "metadata": {},
     "source": [
      "Alot of what we just did generalizes to general data analysis. Except, in general, it is _not_ possible to formally derive the answer.\n",
      "\n",
      "Oh and plus, there's another function that will give you \"samples without replacement,\" which is actually what Jordan wanted.\n",
      "\n",
      "Oh and plus plus, I have to reimport stuff from random because two different things have the same name now."
     ]
    },
    {
     "cell_type": "code",
     "collapsed": false,
     "input": [
      "from random import *\n",
      "[sample(range(1, 6), 3) for x in range(10)]"
     ],
     "language": "python",
     "metadata": {},
     "outputs": [
      {
       "metadata": {},
       "output_type": "pyout",
       "prompt_number": 86,
       "text": [
        "[[4, 5, 2],\n",
        " [4, 2, 5],\n",
        " [1, 4, 2],\n",
        " [1, 2, 4],\n",
        " [1, 3, 4],\n",
        " [4, 3, 1],\n",
        " [4, 1, 3],\n",
        " [4, 5, 2],\n",
        " [1, 2, 3],\n",
        " [5, 3, 1]]"
       ]
      }
     ],
     "prompt_number": 86
    },
    {
     "cell_type": "markdown",
     "metadata": {},
     "source": [
      "Just for fun, and now that we know the \"true value\" of the percentage of doubles, let's see how close we get when we take samples of 100. Let's draw a histogram of 1000 estimates of that true value."
     ]
    },
    {
     "cell_type": "code",
     "collapsed": false,
     "input": [
      "just_for_fun = [compute_percentage_of_doubles(100) for x in range(1000)]\n",
      "hist(just_for_fun, 30)"
     ],
     "language": "python",
     "metadata": {},
     "outputs": [
      {
       "metadata": {},
       "output_type": "pyout",
       "prompt_number": 87,
       "text": [
        "(array([   6.,    0.,    2.,    5.,   10.,   13.,   15.,   22.,   36.,\n",
        "          50.,  106.,   60.,   78.,   84.,   88.,   62.,   72.,   67.,\n",
        "          57.,   50.,   60.,   26.,    9.,    6.,    7.,    1.,    1.,\n",
        "           4.,    1.,    2.]),\n",
        " array([ 0.29 ,  0.301,  0.312,  0.323,  0.334,  0.345,  0.356,  0.367,\n",
        "         0.378,  0.389,  0.4  ,  0.411,  0.422,  0.433,  0.444,  0.455,\n",
        "         0.466,  0.477,  0.488,  0.499,  0.51 ,  0.521,  0.532,  0.543,\n",
        "         0.554,  0.565,  0.576,  0.587,  0.598,  0.609,  0.62 ]),\n",
        " <a list of 30 Patch objects>)"
       ]
      },
      {
       "metadata": {},
       "output_type": "display_data",
       "png": "[encoded data removed]",
       "text": [
        "<matplotlib.figure.Figure at 0x1202292d0>"
       ]
      }
     ],
     "prompt_number": 87
    },
    {
     "cell_type": "markdown",
     "metadata": {},
     "source": [
      "What other kind of distributions do we have that don't involve integers?"
     ]
    },
    {
     "cell_type": "code",
     "collapsed": false,
     "input": [
      "uni_samples = [uniform(0, 1) for x in range(1000)]"
     ],
     "language": "python",
     "metadata": {},
     "outputs": [],
     "prompt_number": 90
    },
    {
     "cell_type": "code",
     "collapsed": false,
     "input": [
      "hist(uni_samples, 30)"
     ],
     "language": "python",
     "metadata": {},
     "outputs": [
      {
       "metadata": {},
       "output_type": "pyout",
       "prompt_number": 47,
       "text": [
        "(array([ 23.,  26.,  44.,  39.,  40.,  42.,  34.,  37.,  34.,  26.,  30.,\n",
        "         28.,  41.,  41.,  31.,  32.,  23.,  40.,  35.,  36.,  37.,  33.,\n",
        "         31.,  35.,  32.,  26.,  48.,  25.,  23.,  28.]),\n",
        " array([  2.72695379e-04,   3.35407917e-02,   6.68088880e-02,\n",
        "          1.00076984e-01,   1.33345081e-01,   1.66613177e-01,\n",
        "          1.99881273e-01,   2.33149370e-01,   2.66417466e-01,\n",
        "          2.99685562e-01,   3.32953658e-01,   3.66221755e-01,\n",
        "          3.99489851e-01,   4.32757947e-01,   4.66026044e-01,\n",
        "          4.99294140e-01,   5.32562236e-01,   5.65830333e-01,\n",
        "          5.99098429e-01,   6.32366525e-01,   6.65634622e-01,\n",
        "          6.98902718e-01,   7.32170814e-01,   7.65438911e-01,\n",
        "          7.98707007e-01,   8.31975103e-01,   8.65243199e-01,\n",
        "          8.98511296e-01,   9.31779392e-01,   9.65047488e-01,\n",
        "          9.98315585e-01]),\n",
        " <a list of 30 Patch objects>)"
       ]
      },
      {
       "metadata": {},
       "output_type": "display_data",
       "png": "[encoded data removed]",
       "text": [
        "<matplotlib.figure.Figure at 0x10744a050>"
       ]
      }
     ],
     "prompt_number": 47
    },
    {
     "cell_type": "code",
     "collapsed": false,
     "input": [
      "tri_samples = [triangular(0, 1, 0.4) for x in range(1000)]"
     ],
     "language": "python",
     "metadata": {},
     "outputs": [],
     "prompt_number": 88
    },
    {
     "cell_type": "code",
     "collapsed": false,
     "input": [
      "hist(tri_samples, 30)"
     ],
     "language": "python",
     "metadata": {},
     "outputs": [
      {
       "metadata": {},
       "output_type": "pyout",
       "prompt_number": 89,
       "text": [
        "(array([  4.,   8.,  18.,  15.,  25.,  29.,  30.,  51.,  48.,  47.,  58.,\n",
        "         61.,  70.,  59.,  55.,  49.,  41.,  52.,  43.,  30.,  40.,  29.,\n",
        "         27.,  19.,  21.,  18.,  20.,  15.,  10.,   8.]),\n",
        " array([ 0.00671099,  0.03934245,  0.07197391,  0.10460536,  0.13723682,\n",
        "         0.16986827,  0.20249973,  0.23513118,  0.26776264,  0.30039409,\n",
        "         0.33302555,  0.365657  ,  0.39828846,  0.43091992,  0.46355137,\n",
        "         0.49618283,  0.52881428,  0.56144574,  0.59407719,  0.62670865,\n",
        "         0.6593401 ,  0.69197156,  0.72460301,  0.75723447,  0.78986592,\n",
        "         0.82249738,  0.85512884,  0.88776029,  0.92039175,  0.9530232 ,\n",
        "         0.98565466]),\n",
        " <a list of 30 Patch objects>)"
       ]
      },
      {
       "metadata": {},
       "output_type": "display_data",
       "png": "[encoded data removed]",
       "text": [
        "<matplotlib.figure.Figure at 0x116806a50>"
       ]
      }
     ],
     "prompt_number": 89
    },
    {
     "cell_type": "markdown",
     "metadata": {},
     "source": [
      "Look at the [wikipedia entry for the beta distribution](http://en.wikipedia.org/wiki/Beta_distribution#mediaviewer/File:Beta_distribution_pdf.svg) to check out the two parameters we need."
     ]
    },
    {
     "cell_type": "code",
     "collapsed": false,
     "input": [
      "beta_samples = [betavariate(0.5, 0.5) for x in range(1000)]"
     ],
     "language": "python",
     "metadata": {},
     "outputs": [],
     "prompt_number": 91
    },
    {
     "cell_type": "code",
     "collapsed": false,
     "input": [
      "hist(beta_samples, 30)"
     ],
     "language": "python",
     "metadata": {},
     "outputs": [
      {
       "metadata": {},
       "output_type": "pyout",
       "prompt_number": 92,
       "text": [
        "(array([ 126.,   50.,   38.,   30.,   24.,   31.,   35.,   24.,   18.,\n",
        "          24.,   15.,   27.,   29.,   11.,   18.,   21.,   19.,   25.,\n",
        "          29.,   19.,   15.,   23.,   33.,   25.,   32.,   19.,   28.,\n",
        "          38.,   47.,  127.]),\n",
        " array([  3.76930006e-06,   3.33368882e-02,   6.66700070e-02,\n",
        "          1.00003126e-01,   1.33336245e-01,   1.66669364e-01,\n",
        "          2.00002483e-01,   2.33335601e-01,   2.66668720e-01,\n",
        "          3.00001839e-01,   3.33334958e-01,   3.66668077e-01,\n",
        "          4.00001196e-01,   4.33334315e-01,   4.66667433e-01,\n",
        "          5.00000552e-01,   5.33333671e-01,   5.66666790e-01,\n",
        "          5.99999909e-01,   6.33333028e-01,   6.66666147e-01,\n",
        "          6.99999266e-01,   7.33332384e-01,   7.66665503e-01,\n",
        "          7.99998622e-01,   8.33331741e-01,   8.66664860e-01,\n",
        "          8.99997979e-01,   9.33331098e-01,   9.66664216e-01,\n",
        "          9.99997335e-01]),\n",
        " <a list of 30 Patch objects>)"
       ]
      },
      {
       "metadata": {},
       "output_type": "display_data",
       "png": "[encoded data removed]",
       "text": [
        "<matplotlib.figure.Figure at 0x119824410>"
       ]
      }
     ],
     "prompt_number": 92
    },
    {
     "cell_type": "markdown",
     "metadata": {},
     "source": [
      "What do we think the Facebook sentiment score distribution looked like? I'ma go with Gaussian, where there were actually two distributions with very small differences in their means. Let's explore this situation."
     ]
    },
    {
     "cell_type": "code",
     "collapsed": false,
     "input": [
      "gauss_samples_1 = [gauss(0.01, 1) for x in range(1000)]\n",
      "print mean(gauss_samples_1)\n",
      "gauss_samples_2 = [gauss(-0.01, 1) for x in range(1000)]\n",
      "print mean(gauss_samples_2)"
     ],
     "language": "python",
     "metadata": {},
     "outputs": [
      {
       "output_type": "stream",
       "stream": "stdout",
       "text": [
        "-0.00495910740132\n",
        "0.0144937134568\n"
       ]
      }
     ],
     "prompt_number": 94
    },
    {
     "cell_type": "code",
     "collapsed": false,
     "input": [
      "hist(gauss_samples_1, 50)"
     ],
     "language": "python",
     "metadata": {},
     "outputs": [
      {
       "metadata": {},
       "output_type": "pyout",
       "prompt_number": 95,
       "text": [
        "(array([  2.,   0.,   2.,   1.,   2.,   3.,   5.,   2.,   4.,   9.,  11.,\n",
        "         20.,  19.,  18.,  20.,  26.,  36.,  40.,  38.,  52.,  40.,  44.,\n",
        "         60.,  64.,  54.,  48.,  37.,  53.,  43.,  38.,  37.,  31.,  31.,\n",
        "         20.,  17.,  16.,  15.,  12.,   6.,   7.,   4.,   4.,   3.,   1.,\n",
        "          1.,   1.,   0.,   1.,   0.,   2.]),\n",
        " array([-3.26435319, -3.12783202, -2.99131085, -2.85478968, -2.7182685 ,\n",
        "        -2.58174733, -2.44522616, -2.30870499, -2.17218382, -2.03566264,\n",
        "        -1.89914147, -1.7626203 , -1.62609913, -1.48957796, -1.35305678,\n",
        "        -1.21653561, -1.08001444, -0.94349327, -0.8069721 , -0.67045092,\n",
        "        -0.53392975, -0.39740858, -0.26088741, -0.12436624,  0.01215494,\n",
        "         0.14867611,  0.28519728,  0.42171845,  0.55823962,  0.6947608 ,\n",
        "         0.83128197,  0.96780314,  1.10432431,  1.24084548,  1.37736666,\n",
        "         1.51388783,  1.650409  ,  1.78693017,  1.92345134,  2.05997252,\n",
        "         2.19649369,  2.33301486,  2.46953603,  2.6060572 ,  2.74257838,\n",
        "         2.87909955,  3.01562072,  3.15214189,  3.28866306,  3.42518424,\n",
        "         3.56170541]),\n",
        " <a list of 50 Patch objects>)"
       ]
      },
      {
       "metadata": {},
       "output_type": "display_data",
       "png": "[encoded data removed]",
       "text": [
        "<matplotlib.figure.Figure at 0x11b333f10>"
       ]
      }
     ],
     "prompt_number": 95
    },
    {
     "cell_type": "code",
     "collapsed": false,
     "input": [
      "hist(gauss_samples_2, 50)"
     ],
     "language": "python",
     "metadata": {},
     "outputs": [
      {
       "metadata": {},
       "output_type": "pyout",
       "prompt_number": 96,
       "text": [
        "(array([  1.,   0.,   0.,   1.,   3.,   3.,   2.,   8.,   6.,  13.,  14.,\n",
        "         24.,  12.,  26.,  33.,  31.,  27.,  39.,  46.,  49.,  54.,  51.,\n",
        "         57.,  58.,  52.,  53.,  51.,  46.,  39.,  29.,  20.,  35.,  20.,\n",
        "         19.,  21.,  15.,  12.,  12.,   6.,   6.,   2.,   2.,   1.,   0.,\n",
        "          0.,   0.,   0.,   0.,   0.,   1.]),\n",
        " array([-3.12092145, -2.98469082, -2.8484602 , -2.71222957, -2.57599894,\n",
        "        -2.43976832, -2.30353769, -2.16730706, -2.03107644, -1.89484581,\n",
        "        -1.75861518, -1.62238456, -1.48615393, -1.3499233 , -1.21369268,\n",
        "        -1.07746205, -0.94123142, -0.8050008 , -0.66877017, -0.53253955,\n",
        "        -0.39630892, -0.26007829, -0.12384767,  0.01238296,  0.14861359,\n",
        "         0.28484421,  0.42107484,  0.55730547,  0.69353609,  0.82976672,\n",
        "         0.96599735,  1.10222797,  1.2384586 ,  1.37468923,  1.51091985,\n",
        "         1.64715048,  1.78338111,  1.91961173,  2.05584236,  2.19207299,\n",
        "         2.32830361,  2.46453424,  2.60076487,  2.73699549,  2.87322612,\n",
        "         3.00945675,  3.14568737,  3.281918  ,  3.41814862,  3.55437925,\n",
        "         3.69060988]),\n",
        " <a list of 50 Patch objects>)"
       ]
      },
      {
       "metadata": {},
       "output_type": "display_data",
       "png": "[encoded data removed]",
       "text": [
        "<matplotlib.figure.Figure at 0x121190450>"
       ]
      }
     ],
     "prompt_number": 96
    },
    {
     "cell_type": "markdown",
     "metadata": {},
     "source": [
      "So far we really can't see the difference, can we? But what if we had _way more data_?"
     ]
    },
    {
     "cell_type": "code",
     "collapsed": false,
     "input": [
      "gauss_samples_1 = [gauss(0.01, 1) for x in range(100000)]\n",
      "print mean(gauss_samples_1)\n",
      "gauss_samples_2 = [gauss(-0.01, 1) for x in range(100000)]\n",
      "print mean(gauss_samples_2)"
     ],
     "language": "python",
     "metadata": {},
     "outputs": [
      {
       "output_type": "stream",
       "stream": "stdout",
       "text": [
        "0.00675473592771\n",
        "-0.0108460544567"
       ]
      },
      {
       "output_type": "stream",
       "stream": "stdout",
       "text": [
        "\n"
       ]
      }
     ],
     "prompt_number": 97
    },
    {
     "cell_type": "markdown",
     "metadata": {},
     "source": [
      "That's much more like it. But is it a fluke to get closer estimates? Let's do it a bunch of times and see. We'll do it 1000 times with samples of size 1000. That's a total of 1,000,000 draws."
     ]
    },
    {
     "cell_type": "code",
     "collapsed": false,
     "input": [
      "D = [mean([gauss(0.01, 1) for x in range(1000)]) for x in range(1000)]\n",
      "print mean(D)\n",
      "hist(D, 30)"
     ],
     "language": "python",
     "metadata": {},
     "outputs": [
      {
       "output_type": "stream",
       "stream": "stdout",
       "text": [
        "0.0091662465649\n"
       ]
      },
      {
       "metadata": {},
       "output_type": "pyout",
       "prompt_number": 99,
       "text": [
        "(array([   4.,    1.,    9.,   12.,   18.,   24.,   34.,   42.,   66.,\n",
        "          76.,   90.,   84.,   75.,  100.,   69.,   68.,   65.,   59.,\n",
        "          37.,   22.,   21.,   11.,    4.,    5.,    1.,    2.,    0.,\n",
        "           0.,    0.,    1.]),\n",
        " array([-0.08001771, -0.0729109 , -0.0658041 , -0.0586973 , -0.0515905 ,\n",
        "        -0.0444837 , -0.0373769 , -0.03027009, -0.02316329, -0.01605649,\n",
        "        -0.00894969, -0.00184289,  0.00526392,  0.01237072,  0.01947752,\n",
        "         0.02658432,  0.03369112,  0.04079792,  0.04790473,  0.05501153,\n",
        "         0.06211833,  0.06922513,  0.07633193,  0.08343873,  0.09054554,\n",
        "         0.09765234,  0.10475914,  0.11186594,  0.11897274,  0.12607955,\n",
        "         0.13318635]),\n",
        " <a list of 30 Patch objects>)"
       ]
      },
      {
       "metadata": {},
       "output_type": "display_data",
       "png": "[encoded data removed]",
       "text": [
        "<matplotlib.figure.Figure at 0x116839990>"
       ]
      }
     ],
     "prompt_number": 99
    },
    {
     "cell_type": "markdown",
     "metadata": {},
     "source": [
      "Pretty good, but not good enough actually. If we have four times as many \"people\" in each group, and do that 4 times fewer times, we still have 1,000,000 draws. It's a general rule (especially for the normal distribution) that when we do this our error will get smaller by a factor of 2. Let's try it and see!"
     ]
    },
    {
     "cell_type": "code",
     "collapsed": false,
     "input": [
      "D2 = [mean([gauss(0.01, 1) for x in range(4000)]) for x in range(250)]\n",
      "print mean(D2)\n",
      "hist(D2, 30)"
     ],
     "language": "python",
     "metadata": {},
     "outputs": [
      {
       "output_type": "stream",
       "stream": "stdout",
       "text": [
        "0.0105539451548\n"
       ]
      },
      {
       "metadata": {},
       "output_type": "pyout",
       "prompt_number": 100,
       "text": [
        "(array([  1.,   2.,   3.,   2.,   3.,   1.,   3.,   4.,   6.,  12.,  15.,\n",
        "         13.,  13.,  13.,  18.,  19.,  12.,  11.,  20.,  15.,  15.,  12.,\n",
        "          8.,   7.,   2.,   8.,   4.,   5.,   2.,   1.]),\n",
        " array([-0.02926812, -0.02677766, -0.0242872 , -0.02179674, -0.01930628,\n",
        "        -0.01681582, -0.01432536, -0.0118349 , -0.00934443, -0.00685397,\n",
        "        -0.00436351, -0.00187305,  0.00061741,  0.00310787,  0.00559833,\n",
        "         0.00808879,  0.01057925,  0.01306971,  0.01556017,  0.01805063,\n",
        "         0.02054109,  0.02303155,  0.02552202,  0.02801248,  0.03050294,\n",
        "         0.0329934 ,  0.03548386,  0.03797432,  0.04046478,  0.04295524,\n",
        "         0.0454457 ]),\n",
        " <a list of 30 Patch objects>)"
       ]
      },
      {
       "metadata": {},
       "output_type": "display_data",
       "png": "[encoded data removed]",
       "text": [
        "<matplotlib.figure.Figure at 0x11f273d90>"
       ]
      }
     ],
     "prompt_number": 100
    },
    {
     "cell_type": "markdown",
     "metadata": {},
     "source": [
      "we still have about a 0.03 or 0.04 spread in each direction, and we want it to be more like a 0.01 spread. We need 16 times more data in our sample. "
     ]
    },
    {
     "cell_type": "code",
     "collapsed": false,
     "input": [
      "4000*16"
     ],
     "language": "python",
     "metadata": {},
     "outputs": [
      {
       "metadata": {},
       "output_type": "pyout",
       "prompt_number": 101,
       "text": [
        "64000"
       ]
      }
     ],
     "prompt_number": 101
    },
    {
     "cell_type": "markdown",
     "metadata": {},
     "source": [
      "In other words, if we have 100,000 people in each group, we're probably fine."
     ]
    },
    {
     "cell_type": "code",
     "collapsed": false,
     "input": [],
     "language": "python",
     "metadata": {},
     "outputs": []
    }
   ],
   "metadata": {}
  }
 ]
}